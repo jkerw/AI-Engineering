{
    "cells": [
        {
            "cell_type": "markdown",
            "metadata": {
                "collapsed": true
            },
            "source": "## Part A\n\n### Clean the data and import needed libraries"
        },
        {
            "cell_type": "code",
            "execution_count": 1,
            "metadata": {},
            "outputs": [
                {
                    "name": "stderr",
                    "output_type": "stream",
                    "text": "Using TensorFlow backend.\n"
                }
            ],
            "source": "#download libraries required for lab\nimport keras\nfrom keras.models import Sequential\nfrom keras.layers import Dense"
        },
        {
            "cell_type": "code",
            "execution_count": 2,
            "metadata": {},
            "outputs": [],
            "source": "import pandas as pd\nimport numpy as np"
        },
        {
            "cell_type": "code",
            "execution_count": 3,
            "metadata": {},
            "outputs": [
                {
                    "data": {
                        "text/html": "<div>\n<style scoped>\n    .dataframe tbody tr th:only-of-type {\n        vertical-align: middle;\n    }\n\n    .dataframe tbody tr th {\n        vertical-align: top;\n    }\n\n    .dataframe thead th {\n        text-align: right;\n    }\n</style>\n<table border=\"1\" class=\"dataframe\">\n  <thead>\n    <tr style=\"text-align: right;\">\n      <th></th>\n      <th>Cement</th>\n      <th>Blast Furnace Slag</th>\n      <th>Fly Ash</th>\n      <th>Water</th>\n      <th>Superplasticizer</th>\n      <th>Coarse Aggregate</th>\n      <th>Fine Aggregate</th>\n      <th>Age</th>\n      <th>Strength</th>\n    </tr>\n  </thead>\n  <tbody>\n    <tr>\n      <th>0</th>\n      <td>540.0</td>\n      <td>0.0</td>\n      <td>0.0</td>\n      <td>162.0</td>\n      <td>2.5</td>\n      <td>1040.0</td>\n      <td>676.0</td>\n      <td>28</td>\n      <td>79.99</td>\n    </tr>\n    <tr>\n      <th>1</th>\n      <td>540.0</td>\n      <td>0.0</td>\n      <td>0.0</td>\n      <td>162.0</td>\n      <td>2.5</td>\n      <td>1055.0</td>\n      <td>676.0</td>\n      <td>28</td>\n      <td>61.89</td>\n    </tr>\n    <tr>\n      <th>2</th>\n      <td>332.5</td>\n      <td>142.5</td>\n      <td>0.0</td>\n      <td>228.0</td>\n      <td>0.0</td>\n      <td>932.0</td>\n      <td>594.0</td>\n      <td>270</td>\n      <td>40.27</td>\n    </tr>\n    <tr>\n      <th>3</th>\n      <td>332.5</td>\n      <td>142.5</td>\n      <td>0.0</td>\n      <td>228.0</td>\n      <td>0.0</td>\n      <td>932.0</td>\n      <td>594.0</td>\n      <td>365</td>\n      <td>41.05</td>\n    </tr>\n    <tr>\n      <th>4</th>\n      <td>198.6</td>\n      <td>132.4</td>\n      <td>0.0</td>\n      <td>192.0</td>\n      <td>0.0</td>\n      <td>978.4</td>\n      <td>825.5</td>\n      <td>360</td>\n      <td>44.30</td>\n    </tr>\n  </tbody>\n</table>\n</div>",
                        "text/plain": "   Cement  Blast Furnace Slag  Fly Ash  Water  Superplasticizer  \\\n0   540.0                 0.0      0.0  162.0               2.5   \n1   540.0                 0.0      0.0  162.0               2.5   \n2   332.5               142.5      0.0  228.0               0.0   \n3   332.5               142.5      0.0  228.0               0.0   \n4   198.6               132.4      0.0  192.0               0.0   \n\n   Coarse Aggregate  Fine Aggregate  Age  Strength  \n0            1040.0           676.0   28     79.99  \n1            1055.0           676.0   28     61.89  \n2             932.0           594.0  270     40.27  \n3             932.0           594.0  365     41.05  \n4             978.4           825.5  360     44.30  "
                    },
                    "execution_count": 3,
                    "metadata": {},
                    "output_type": "execute_result"
                }
            ],
            "source": "concrete_data = pd.read_csv('https://cocl.us/concrete_data')\nconcrete_data.head()"
        },
        {
            "cell_type": "code",
            "execution_count": 4,
            "metadata": {},
            "outputs": [
                {
                    "data": {
                        "text/plain": "(1030, 9)"
                    },
                    "execution_count": 4,
                    "metadata": {},
                    "output_type": "execute_result"
                }
            ],
            "source": "concrete_data.shape"
        },
        {
            "cell_type": "code",
            "execution_count": 5,
            "metadata": {},
            "outputs": [
                {
                    "data": {
                        "text/html": "<div>\n<style scoped>\n    .dataframe tbody tr th:only-of-type {\n        vertical-align: middle;\n    }\n\n    .dataframe tbody tr th {\n        vertical-align: top;\n    }\n\n    .dataframe thead th {\n        text-align: right;\n    }\n</style>\n<table border=\"1\" class=\"dataframe\">\n  <thead>\n    <tr style=\"text-align: right;\">\n      <th></th>\n      <th>Cement</th>\n      <th>Blast Furnace Slag</th>\n      <th>Fly Ash</th>\n      <th>Water</th>\n      <th>Superplasticizer</th>\n      <th>Coarse Aggregate</th>\n      <th>Fine Aggregate</th>\n      <th>Age</th>\n      <th>Strength</th>\n    </tr>\n  </thead>\n  <tbody>\n    <tr>\n      <th>count</th>\n      <td>1030.000000</td>\n      <td>1030.000000</td>\n      <td>1030.000000</td>\n      <td>1030.000000</td>\n      <td>1030.000000</td>\n      <td>1030.000000</td>\n      <td>1030.000000</td>\n      <td>1030.000000</td>\n      <td>1030.000000</td>\n    </tr>\n    <tr>\n      <th>mean</th>\n      <td>281.167864</td>\n      <td>73.895825</td>\n      <td>54.188350</td>\n      <td>181.567282</td>\n      <td>6.204660</td>\n      <td>972.918932</td>\n      <td>773.580485</td>\n      <td>45.662136</td>\n      <td>35.817961</td>\n    </tr>\n    <tr>\n      <th>std</th>\n      <td>104.506364</td>\n      <td>86.279342</td>\n      <td>63.997004</td>\n      <td>21.354219</td>\n      <td>5.973841</td>\n      <td>77.753954</td>\n      <td>80.175980</td>\n      <td>63.169912</td>\n      <td>16.705742</td>\n    </tr>\n    <tr>\n      <th>min</th>\n      <td>102.000000</td>\n      <td>0.000000</td>\n      <td>0.000000</td>\n      <td>121.800000</td>\n      <td>0.000000</td>\n      <td>801.000000</td>\n      <td>594.000000</td>\n      <td>1.000000</td>\n      <td>2.330000</td>\n    </tr>\n    <tr>\n      <th>25%</th>\n      <td>192.375000</td>\n      <td>0.000000</td>\n      <td>0.000000</td>\n      <td>164.900000</td>\n      <td>0.000000</td>\n      <td>932.000000</td>\n      <td>730.950000</td>\n      <td>7.000000</td>\n      <td>23.710000</td>\n    </tr>\n    <tr>\n      <th>50%</th>\n      <td>272.900000</td>\n      <td>22.000000</td>\n      <td>0.000000</td>\n      <td>185.000000</td>\n      <td>6.400000</td>\n      <td>968.000000</td>\n      <td>779.500000</td>\n      <td>28.000000</td>\n      <td>34.445000</td>\n    </tr>\n    <tr>\n      <th>75%</th>\n      <td>350.000000</td>\n      <td>142.950000</td>\n      <td>118.300000</td>\n      <td>192.000000</td>\n      <td>10.200000</td>\n      <td>1029.400000</td>\n      <td>824.000000</td>\n      <td>56.000000</td>\n      <td>46.135000</td>\n    </tr>\n    <tr>\n      <th>max</th>\n      <td>540.000000</td>\n      <td>359.400000</td>\n      <td>200.100000</td>\n      <td>247.000000</td>\n      <td>32.200000</td>\n      <td>1145.000000</td>\n      <td>992.600000</td>\n      <td>365.000000</td>\n      <td>82.600000</td>\n    </tr>\n  </tbody>\n</table>\n</div>",
                        "text/plain": "            Cement  Blast Furnace Slag      Fly Ash        Water  \\\ncount  1030.000000         1030.000000  1030.000000  1030.000000   \nmean    281.167864           73.895825    54.188350   181.567282   \nstd     104.506364           86.279342    63.997004    21.354219   \nmin     102.000000            0.000000     0.000000   121.800000   \n25%     192.375000            0.000000     0.000000   164.900000   \n50%     272.900000           22.000000     0.000000   185.000000   \n75%     350.000000          142.950000   118.300000   192.000000   \nmax     540.000000          359.400000   200.100000   247.000000   \n\n       Superplasticizer  Coarse Aggregate  Fine Aggregate          Age  \\\ncount       1030.000000       1030.000000     1030.000000  1030.000000   \nmean           6.204660        972.918932      773.580485    45.662136   \nstd            5.973841         77.753954       80.175980    63.169912   \nmin            0.000000        801.000000      594.000000     1.000000   \n25%            0.000000        932.000000      730.950000     7.000000   \n50%            6.400000        968.000000      779.500000    28.000000   \n75%           10.200000       1029.400000      824.000000    56.000000   \nmax           32.200000       1145.000000      992.600000   365.000000   \n\n          Strength  \ncount  1030.000000  \nmean     35.817961  \nstd      16.705742  \nmin       2.330000  \n25%      23.710000  \n50%      34.445000  \n75%      46.135000  \nmax      82.600000  "
                    },
                    "execution_count": 5,
                    "metadata": {},
                    "output_type": "execute_result"
                }
            ],
            "source": "concrete_data.describe()"
        },
        {
            "cell_type": "code",
            "execution_count": 24,
            "metadata": {},
            "outputs": [],
            "source": "concrete_data_columns = concrete_data.columns\n\npredictors = concrete_data[concrete_data_columns[concrete_data_columns != 'Strength']] # all columns except Strength\ntarget = concrete_data['Strength']"
        },
        {
            "cell_type": "code",
            "execution_count": 25,
            "metadata": {},
            "outputs": [
                {
                    "data": {
                        "text/plain": "8"
                    },
                    "execution_count": 25,
                    "metadata": {},
                    "output_type": "execute_result"
                }
            ],
            "source": "n_cols = predictors.shape[1]\nn_cols"
        },
        {
            "cell_type": "code",
            "execution_count": 26,
            "metadata": {},
            "outputs": [],
            "source": "#defines regression model with one hidden layer of 10 nodes, relu activation\n# uses the adam optimizer and MSE loss function. \ndef reg_model():\n    model=Sequential()\n    model.add(Dense(10, activation='relu', input_shape=(n_cols,)))\n    model.add(Dense(1))\n    \n    model.compile(optimizer='adam', loss='mean_squared_error')\n    return model"
        },
        {
            "cell_type": "code",
            "execution_count": 31,
            "metadata": {},
            "outputs": [],
            "source": "from sklearn.model_selection import train_test_split\nfrom sklearn.metrics import mean_squared_error"
        },
        {
            "cell_type": "markdown",
            "metadata": {},
            "source": "## Train and Test the Network"
        },
        {
            "cell_type": "code",
            "execution_count": 27,
            "metadata": {},
            "outputs": [],
            "source": "X_train, X_test, y_train, y_test = train_test_split(predictors, target, test_size=0.3, random_state=42)"
        },
        {
            "cell_type": "code",
            "execution_count": 28,
            "metadata": {},
            "outputs": [],
            "source": "model= reg_model() #build the model"
        },
        {
            "cell_type": "code",
            "execution_count": 29,
            "metadata": {},
            "outputs": [
                {
                    "name": "stdout",
                    "output_type": "stream",
                    "text": "WARNING:tensorflow:From /opt/conda/envs/Python36/lib/python3.6/site-packages/tensorflow/python/ops/math_ops.py:3066: to_int32 (from tensorflow.python.ops.math_ops) is deprecated and will be removed in a future version.\nInstructions for updating:\nUse tf.cast instead.\nEpoch 1/50\n721/721 [==============================] - 1s 1ms/step - loss: 640586.0801\nEpoch 2/50\n721/721 [==============================] - 0s 161us/step - loss: 394599.4236\nEpoch 3/50\n721/721 [==============================] - 0s 171us/step - loss: 249102.1578\nEpoch 4/50\n721/721 [==============================] - 0s 161us/step - loss: 167364.1549\nEpoch 5/50\n721/721 [==============================] - 0s 188us/step - loss: 118767.1021\nEpoch 6/50\n721/721 [==============================] - 0s 173us/step - loss: 87282.8397\nEpoch 7/50\n721/721 [==============================] - 0s 178us/step - loss: 65874.7422\nEpoch 8/50\n721/721 [==============================] - 0s 167us/step - loss: 50755.8235\nEpoch 9/50\n721/721 [==============================] - 0s 189us/step - loss: 39592.0628\nEpoch 10/50\n721/721 [==============================] - 0s 174us/step - loss: 31143.1025\nEpoch 11/50\n721/721 [==============================] - 0s 156us/step - loss: 24653.7768\nEpoch 12/50\n721/721 [==============================] - 0s 191us/step - loss: 19599.6087\nEpoch 13/50\n721/721 [==============================] - 0s 175us/step - loss: 15728.2414\nEpoch 14/50\n721/721 [==============================] - 0s 162us/step - loss: 12761.2107\nEpoch 15/50\n721/721 [==============================] - 0s 172us/step - loss: 10493.0646\nEpoch 16/50\n721/721 [==============================] - 0s 210us/step - loss: 8755.6427\nEpoch 17/50\n721/721 [==============================] - 0s 163us/step - loss: 7420.4355\nEpoch 18/50\n721/721 [==============================] - 0s 177us/step - loss: 6386.7642\nEpoch 19/50\n721/721 [==============================] - 0s 161us/step - loss: 5577.9584\nEpoch 20/50\n721/721 [==============================] - 0s 163us/step - loss: 4939.4625\nEpoch 21/50\n721/721 [==============================] - 0s 166us/step - loss: 4417.0981\nEpoch 22/50\n721/721 [==============================] - 0s 171us/step - loss: 3996.4193\nEpoch 23/50\n721/721 [==============================] - 0s 167us/step - loss: 3647.5716\nEpoch 24/50\n721/721 [==============================] - 0s 171us/step - loss: 3361.4234\nEpoch 25/50\n721/721 [==============================] - 0s 165us/step - loss: 3118.2992\nEpoch 26/50\n721/721 [==============================] - 0s 163us/step - loss: 2910.5565\nEpoch 27/50\n721/721 [==============================] - 2s 3ms/step - loss: 2737.1174\nEpoch 28/50\n721/721 [==============================] - 0s 174us/step - loss: 2595.0035\nEpoch 29/50\n721/721 [==============================] - 0s 166us/step - loss: 2479.3350\nEpoch 30/50\n721/721 [==============================] - 0s 196us/step - loss: 2382.0931\nEpoch 31/50\n721/721 [==============================] - 0s 245us/step - loss: 2296.1830\nEpoch 32/50\n721/721 [==============================] - 0s 175us/step - loss: 2224.1168\nEpoch 33/50\n721/721 [==============================] - 2s 3ms/step - loss: 2162.7432\nEpoch 34/50\n721/721 [==============================] - 0s 165us/step - loss: 2108.0953\nEpoch 35/50\n721/721 [==============================] - 0s 176us/step - loss: 2062.5072\nEpoch 36/50\n721/721 [==============================] - 0s 155us/step - loss: 2021.3107\nEpoch 37/50\n721/721 [==============================] - 0s 160us/step - loss: 1985.3134\nEpoch 38/50\n721/721 [==============================] - 0s 167us/step - loss: 1953.7101\nEpoch 39/50\n721/721 [==============================] - 0s 181us/step - loss: 1926.0922\nEpoch 40/50\n721/721 [==============================] - 0s 177us/step - loss: 1902.7906\nEpoch 41/50\n721/721 [==============================] - 0s 179us/step - loss: 1881.0031\nEpoch 42/50\n721/721 [==============================] - 0s 152us/step - loss: 1861.3472\nEpoch 43/50\n721/721 [==============================] - 0s 160us/step - loss: 1842.8557\nEpoch 44/50\n721/721 [==============================] - 0s 159us/step - loss: 1826.1684\nEpoch 45/50\n721/721 [==============================] - 0s 211us/step - loss: 1810.9023\nEpoch 46/50\n721/721 [==============================] - 0s 161us/step - loss: 1795.9952\nEpoch 47/50\n721/721 [==============================] - 0s 176us/step - loss: 1782.3844\nEpoch 48/50\n721/721 [==============================] - 0s 167us/step - loss: 1769.5094\nEpoch 49/50\n721/721 [==============================] - 0s 168us/step - loss: 1757.4583\nEpoch 50/50\n721/721 [==============================] - 0s 157us/step - loss: 1746.8404\n"
                },
                {
                    "data": {
                        "text/plain": "<keras.callbacks.History at 0x7fce63ca36d8>"
                    },
                    "execution_count": 29,
                    "metadata": {},
                    "output_type": "execute_result"
                }
            ],
            "source": "model.fit(X_train, y_train, epochs=50, verbose=1)\n#fit the model"
        },
        {
            "cell_type": "code",
            "execution_count": 30,
            "metadata": {},
            "outputs": [
                {
                    "name": "stdout",
                    "output_type": "stream",
                    "text": "309/309 [==============================] - 0s 329us/step\n"
                },
                {
                    "data": {
                        "text/plain": "1622.273807661433"
                    },
                    "execution_count": 30,
                    "metadata": {},
                    "output_type": "execute_result"
                }
            ],
            "source": "#Evaluate the model on test data\nloss_val = model.evaluate(X_test, y_test)\ny_predict = model.predict(X_test)\nloss_val"
        },
        {
            "cell_type": "code",
            "execution_count": 33,
            "metadata": {},
            "outputs": [
                {
                    "name": "stdout",
                    "output_type": "stream",
                    "text": "1622.273784043734 0.0\n"
                }
            ],
            "source": "mse = mean_squared_error(y_test, y_predict)\nmean = np.mean(mse)\nstd_deviation = np.std(mse)\nprint(mean, std_deviation)"
        },
        {
            "cell_type": "code",
            "execution_count": 35,
            "metadata": {},
            "outputs": [
                {
                    "name": "stdout",
                    "output_type": "stream",
                    "text": "MSE 1: 1443.423630205173\nMSE 2: 1435.5203632243629\nMSE 3: 1305.698762467764\nMSE 4: 1282.1986455330957\nMSE 5: 1172.9270896541261\nMSE 6: 1080.9020928935327\nMSE 7: 1221.1776138848857\nMSE 8: 972.0513892312651\nMSE 9: 971.7721934889513\nMSE 10: 886.1287087252225\nMSE 11: 844.4642509781427\nMSE 12: 724.3879748100602\nMSE 13: 724.0501440350678\nMSE 14: 728.7772086430522\nMSE 15: 683.8219055373306\nMSE 16: 559.3375466356\nMSE 17: 519.0005169223427\nMSE 18: 547.7557236754778\nMSE 19: 501.2882964989128\nMSE 20: 487.90515057708836\nMSE 21: 451.971892322923\nMSE 22: 437.8795752664214\nMSE 23: 404.8630219987295\nMSE 24: 372.40821848255143\nMSE 25: 298.5100525297393\nMSE 26: 299.7937985515903\nMSE 27: 331.27998435998813\nMSE 28: 253.639221635837\nMSE 29: 297.61234552574774\nMSE 30: 225.88562940085205\nMSE 31: 221.98623059714112\nMSE 32: 174.3044756546761\nMSE 33: 158.28036617538305\nMSE 34: 179.20672804946653\nMSE 35: 158.04549953621182\nMSE 36: 153.11195000707139\nMSE 37: 142.35687468198512\nMSE 38: 128.34236140081413\nMSE 39: 129.3835474650065\nMSE 40: 103.68218525019279\nMSE 41: 116.15635965094211\nMSE 42: 88.43290273425649\nMSE 43: 92.60017362921755\nMSE 44: 99.98828754610228\nMSE 45: 100.92050328918259\nMSE 46: 97.88461817275359\nMSE 47: 99.35979185135233\nMSE 48: 89.29885165513912\nMSE 49: 86.12851682990114\nMSE 50: 89.3403828938802\nThe mean and standard deviation of 50 mean squared errors without normalized data. Number of epochs for training is: 50\nStandard Deviation: 409.21256816366514\nMean: 479.50487338003245\n"
                }
            ],
            "source": "total_mse = 50\nepochs=50\nmean_squared_errors = []\nfor i in range(0, total_mse):\n    X_train, X_test, y_train, y_test = train_test_split(predictors, target, test_size=0.3, random_state=i)\n    model.fit(X_train, y_train, epochs=epochs, verbose=0)\n    MSE = model.evaluate(X_test, y_test, verbose=0)\n    print(\"MSE \"+ str(i+1)+ \": \"+ str(MSE))\n    y_predict = model.predict(X_test)\n    mse = mean_squared_error(y_test, y_predict)\n    mean_squared_errors.append(mse)\n\nmean_squared_errors = np.array(mean_squared_errors)\nmean = np.mean(mean_squared_errors)\nstd_deviation = np.std(mean_squared_errors)\n\nprint(\"The mean and standard deviation of \" + str(total_mse) + \" mean squared errors without normalized data. Number of epochs for training is: \" + str(epochs))\nprint(\"Standard Deviation: \" + str(std_deviation))\nprint('Mean: '+ str(mean))"
        },
        {
            "cell_type": "markdown",
            "metadata": {},
            "source": "## Part B"
        },
        {
            "cell_type": "code",
            "execution_count": 36,
            "metadata": {},
            "outputs": [
                {
                    "data": {
                        "text/html": "<div>\n<style scoped>\n    .dataframe tbody tr th:only-of-type {\n        vertical-align: middle;\n    }\n\n    .dataframe tbody tr th {\n        vertical-align: top;\n    }\n\n    .dataframe thead th {\n        text-align: right;\n    }\n</style>\n<table border=\"1\" class=\"dataframe\">\n  <thead>\n    <tr style=\"text-align: right;\">\n      <th></th>\n      <th>Cement</th>\n      <th>Blast Furnace Slag</th>\n      <th>Fly Ash</th>\n      <th>Water</th>\n      <th>Superplasticizer</th>\n      <th>Coarse Aggregate</th>\n      <th>Fine Aggregate</th>\n      <th>Age</th>\n    </tr>\n  </thead>\n  <tbody>\n    <tr>\n      <th>0</th>\n      <td>2.476712</td>\n      <td>-0.856472</td>\n      <td>-0.846733</td>\n      <td>-0.916319</td>\n      <td>-0.620147</td>\n      <td>0.862735</td>\n      <td>-1.217079</td>\n      <td>-0.279597</td>\n    </tr>\n    <tr>\n      <th>1</th>\n      <td>2.476712</td>\n      <td>-0.856472</td>\n      <td>-0.846733</td>\n      <td>-0.916319</td>\n      <td>-0.620147</td>\n      <td>1.055651</td>\n      <td>-1.217079</td>\n      <td>-0.279597</td>\n    </tr>\n    <tr>\n      <th>2</th>\n      <td>0.491187</td>\n      <td>0.795140</td>\n      <td>-0.846733</td>\n      <td>2.174405</td>\n      <td>-1.038638</td>\n      <td>-0.526262</td>\n      <td>-2.239829</td>\n      <td>3.551340</td>\n    </tr>\n    <tr>\n      <th>3</th>\n      <td>0.491187</td>\n      <td>0.795140</td>\n      <td>-0.846733</td>\n      <td>2.174405</td>\n      <td>-1.038638</td>\n      <td>-0.526262</td>\n      <td>-2.239829</td>\n      <td>5.055221</td>\n    </tr>\n    <tr>\n      <th>4</th>\n      <td>-0.790075</td>\n      <td>0.678079</td>\n      <td>-0.846733</td>\n      <td>0.488555</td>\n      <td>-1.038638</td>\n      <td>0.070492</td>\n      <td>0.647569</td>\n      <td>4.976069</td>\n    </tr>\n  </tbody>\n</table>\n</div>",
                        "text/plain": "     Cement  Blast Furnace Slag   Fly Ash     Water  Superplasticizer  \\\n0  2.476712           -0.856472 -0.846733 -0.916319         -0.620147   \n1  2.476712           -0.856472 -0.846733 -0.916319         -0.620147   \n2  0.491187            0.795140 -0.846733  2.174405         -1.038638   \n3  0.491187            0.795140 -0.846733  2.174405         -1.038638   \n4 -0.790075            0.678079 -0.846733  0.488555         -1.038638   \n\n   Coarse Aggregate  Fine Aggregate       Age  \n0          0.862735       -1.217079 -0.279597  \n1          1.055651       -1.217079 -0.279597  \n2         -0.526262       -2.239829  3.551340  \n3         -0.526262       -2.239829  5.055221  \n4          0.070492        0.647569  4.976069  "
                    },
                    "execution_count": 36,
                    "metadata": {},
                    "output_type": "execute_result"
                }
            ],
            "source": "predictors_norm = (predictors - predictors.mean()) / predictors.std()\npredictors_norm.head()\n"
        },
        {
            "cell_type": "code",
            "execution_count": 37,
            "metadata": {},
            "outputs": [
                {
                    "data": {
                        "text/plain": "8"
                    },
                    "execution_count": 37,
                    "metadata": {},
                    "output_type": "execute_result"
                }
            ],
            "source": "n_cols = predictors_norm.shape[1] # number of predictors\nn_cols"
        },
        {
            "cell_type": "code",
            "execution_count": 38,
            "metadata": {},
            "outputs": [],
            "source": "X_train, X_test, y_train, y_test = train_test_split(predictors_norm, target, test_size=0.3, random_state=42)"
        },
        {
            "cell_type": "code",
            "execution_count": 39,
            "metadata": {},
            "outputs": [],
            "source": "model = reg_model()"
        },
        {
            "cell_type": "code",
            "execution_count": 40,
            "metadata": {},
            "outputs": [
                {
                    "name": "stdout",
                    "output_type": "stream",
                    "text": "Epoch 1/50\n - 1s - loss: 1528.9709\nEpoch 2/50\n - 0s - loss: 1513.7017\nEpoch 3/50\n - 0s - loss: 1497.6368\nEpoch 4/50\n - 0s - loss: 1480.1633\nEpoch 5/50\n - 0s - loss: 1461.5281\nEpoch 6/50\n - 0s - loss: 1441.2961\nEpoch 7/50\n - 0s - loss: 1419.5938\nEpoch 8/50\n - 0s - loss: 1396.4331\nEpoch 9/50\n - 3s - loss: 1371.1209\nEpoch 10/50\n - 0s - loss: 1344.6234\nEpoch 11/50\n - 0s - loss: 1316.2813\nEpoch 12/50\n - 0s - loss: 1285.8440\nEpoch 13/50\n - 0s - loss: 1253.9972\nEpoch 14/50\n - 0s - loss: 1220.6996\nEpoch 15/50\n - 1s - loss: 1185.6410\nEpoch 16/50\n - 0s - loss: 1149.6912\nEpoch 17/50\n - 0s - loss: 1111.8743\nEpoch 18/50\n - 0s - loss: 1073.9220\nEpoch 19/50\n - 0s - loss: 1034.5718\nEpoch 20/50\n - 0s - loss: 995.1569\nEpoch 21/50\n - 0s - loss: 954.2030\nEpoch 22/50\n - 0s - loss: 914.5073\nEpoch 23/50\n - 0s - loss: 873.8362\nEpoch 24/50\n - 0s - loss: 833.9688\nEpoch 25/50\n - 0s - loss: 794.2351\nEpoch 26/50\n - 0s - loss: 755.3902\nEpoch 27/50\n - 0s - loss: 717.8195\nEpoch 28/50\n - 0s - loss: 681.1336\nEpoch 29/50\n - 0s - loss: 644.8845\nEpoch 30/50\n - 0s - loss: 610.5593\nEpoch 31/50\n - 0s - loss: 577.7032\nEpoch 32/50\n - 0s - loss: 546.2344\nEpoch 33/50\n - 0s - loss: 516.3365\nEpoch 34/50\n - 0s - loss: 488.0151\nEpoch 35/50\n - 0s - loss: 461.4605\nEpoch 36/50\n - 0s - loss: 436.3623\nEpoch 37/50\n - 0s - loss: 413.1494\nEpoch 38/50\n - 0s - loss: 391.9302\nEpoch 39/50\n - 0s - loss: 371.3875\nEpoch 40/50\n - 0s - loss: 353.1278\nEpoch 41/50\n - 0s - loss: 336.0808\nEpoch 42/50\n - 0s - loss: 320.6426\nEpoch 43/50\n - 0s - loss: 306.5127\nEpoch 44/50\n - 0s - loss: 293.4503\nEpoch 45/50\n - 0s - loss: 281.9632\nEpoch 46/50\n - 0s - loss: 271.4587\nEpoch 47/50\n - 0s - loss: 261.8205\nEpoch 48/50\n - 0s - loss: 253.4579\nEpoch 49/50\n - 0s - loss: 245.8208\nEpoch 50/50\n - 0s - loss: 238.9797\n"
                },
                {
                    "data": {
                        "text/plain": "<keras.callbacks.History at 0x7fce2805c3c8>"
                    },
                    "execution_count": 40,
                    "metadata": {},
                    "output_type": "execute_result"
                }
            ],
            "source": "epochs=50\nmodel.fit(X_train, y_train, epochs=epochs, verbose=2)"
        },
        {
            "cell_type": "code",
            "execution_count": 42,
            "metadata": {},
            "outputs": [
                {
                    "name": "stdout",
                    "output_type": "stream",
                    "text": "309/309 [==============================] - 0s 101us/step\n"
                },
                {
                    "data": {
                        "text/plain": "232.22599027071956"
                    },
                    "execution_count": 42,
                    "metadata": {},
                    "output_type": "execute_result"
                }
            ],
            "source": "#evaluate model on test data\nloss_val_1 = model.evaluate(X_test, y_test)\ny_predict = model.predict(X_test)\nloss_val_1"
        },
        {
            "cell_type": "code",
            "execution_count": 43,
            "metadata": {},
            "outputs": [
                {
                    "name": "stdout",
                    "output_type": "stream",
                    "text": "89.3403813362572 0.0\n"
                }
            ],
            "source": "mse_1 = mean_squared_error(y_test, y_predict)\nmean_1 = np.mean(mse)\nstd_deviation_1 = np.std(mse)\nprint(mean_1, std_deviation_1)"
        },
        {
            "cell_type": "code",
            "execution_count": 45,
            "metadata": {},
            "outputs": [
                {
                    "name": "stdout",
                    "output_type": "stream",
                    "text": "MSE 1: 148.16257694083896\nMSE 2: 148.5610624146693\nMSE 3: 121.25568871359224\nMSE 4: 127.41363787110956\nMSE 5: 124.63357716779493\nMSE 6: 108.9357041047229\nMSE 7: 128.75178305616657\nMSE 8: 100.7546614859868\nMSE 9: 119.10696480266485\nMSE 10: 104.51677316215046\nMSE 11: 98.8177262587069\nMSE 12: 97.80728159290301\nMSE 13: 107.50261409228673\nMSE 14: 111.12817466760531\nMSE 15: 103.82334307328011\nMSE 16: 99.88501467905384\nMSE 17: 94.50121241942965\nMSE 18: 89.77682850661787\nMSE 19: 93.38055419921875\nMSE 20: 108.73958022231808\nMSE 21: 92.81875343693113\nMSE 22: 96.63973124976297\nMSE 23: 100.3319267100115\nMSE 24: 99.6359344778709\nMSE 25: 101.0922684407157\nMSE 26: 95.70845851466107\nMSE 27: 110.52440860587802\nMSE 28: 105.64439039014304\nMSE 29: 100.4786499912299\nMSE 30: 103.48861422739368\nMSE 31: 120.12451658279764\nMSE 32: 104.6186562757276\nMSE 33: 95.2407770743262\nMSE 34: 102.41876635505157\nMSE 35: 110.50958770455667\nMSE 36: 116.87644047413058\nMSE 37: 106.66528174637976\nMSE 38: 106.7704823564943\nMSE 39: 99.02262033999546\nMSE 40: 106.22479104841412\nMSE 41: 108.35147230524846\nMSE 42: 104.00980117945996\nMSE 43: 101.14248793024846\nMSE 44: 97.22536090739722\nMSE 45: 109.78728971512186\nMSE 46: 108.7811594842707\nMSE 47: 101.32204032330066\nMSE 48: 104.66160153879703\nMSE 49: 92.00173229229874\nMSE 50: 104.27348865891737\nThe mean and standard deviation of 50 mean squared errors without normalized data. Number of epochs for training is: 50\nStandard Deviation: 1.4210854715202004e-14\nMean: 89.34038133625721\n"
                }
            ],
            "source": "total_mse_1 = 50\nepochs=50\nmean_squared_errors_1 = []\nfor i in range(0, total_mse_1):\n    X_train, X_test, y_train, y_test = train_test_split(predictors_norm, target, test_size=0.3, random_state=i)\n    model.fit(X_train, y_train, epochs=epochs, verbose=0)\n    MSE_1 = model.evaluate(X_test, y_test, verbose=0)\n    print(\"MSE \"+ str(i+1)+ \": \"+ str(MSE_1))\n    y_predict = model.predict(X_test)\n    mse_1 = mean_squared_error(y_test, y_predict)\n    mean_squared_errors_1.append(mse)\n\nmean_squared_errors_1 = np.array(mean_squared_errors_1)\nmean_1 = np.mean(mean_squared_errors_1)\nstd_deviation_1 = np.std(mean_squared_errors_1)\n\nprint(\"The mean and standard deviation of \" + str(total_mse_1) + \" mean squared errors without normalized data. Number of epochs for training is: \" + str(epochs))\nprint(\"Standard Deviation: \" + str(std_deviation_1))\nprint('Mean: '+ str(mean_1))"
        },
        {
            "cell_type": "markdown",
            "metadata": {},
            "source": "## Part C"
        },
        {
            "cell_type": "code",
            "execution_count": 46,
            "metadata": {},
            "outputs": [
                {
                    "name": "stdout",
                    "output_type": "stream",
                    "text": "MSE 1: 87.72309394021636\nMSE 2: 109.53019835339396\nMSE 3: 104.7498104009042\nMSE 4: 112.45981378154076\nMSE 5: 113.13087201658576\nMSE 6: 98.87491254590476\nMSE 7: 120.32728695175022\nMSE 8: 97.20082329314889\nMSE 9: 112.51776419334041\nMSE 10: 96.6739897249586\nMSE 11: 94.0750565266532\nMSE 12: 93.95976233868151\nMSE 13: 103.77208956622769\nMSE 14: 107.17343445811842\nMSE 15: 100.2662406353503\nMSE 16: 93.1509245344736\nMSE 17: 89.5470287977299\nMSE 18: 86.44346722352851\nMSE 19: 89.27948156066697\nMSE 20: 107.3735087866922\nMSE 21: 89.04425727819547\nMSE 22: 94.30230559808922\nMSE 23: 94.77911211526124\nMSE 24: 98.71170745158273\nMSE 25: 97.3707240329977\nMSE 26: 93.39070894803044\nMSE 27: 107.22702841156895\nMSE 28: 105.15013169470728\nMSE 29: 97.97198432008811\nMSE 30: 98.80960421268993\nMSE 31: 116.05991877089812\nMSE 32: 102.60899698695704\nMSE 33: 92.61235972284113\nMSE 34: 102.10591634114583\nMSE 35: 111.3266811926388\nMSE 36: 114.68034323288013\nMSE 37: 102.5505959347228\nMSE 38: 101.87561198114192\nMSE 39: 97.83069037773848\nMSE 40: 101.28150744885689\nMSE 41: 109.48595853145069\nMSE 42: 100.99507299133103\nMSE 43: 101.59037721504285\nMSE 44: 93.85395215475829\nMSE 45: 107.8433319881896\nMSE 46: 107.86768825000158\nMSE 47: 97.76664398094597\nMSE 48: 100.52155010136971\nMSE 49: 90.92217607714211\nMSE 50: 100.99662010415086\nThe mean and standard deviation of 50 mean squared errors without normalized data. Number of epochs for training is: 100\nStandard Deviation: 1.4210854715202004e-14\nMean: 89.34038133625721\n"
                }
            ],
            "source": "total_mse_1 = 50\nepochs=100\nmean_squared_errors_1 = []\nfor i in range(0, total_mse_1):\n    X_train, X_test, y_train, y_test = train_test_split(predictors_norm, target, test_size=0.3, random_state=i)\n    model.fit(X_train, y_train, epochs=epochs, verbose=0)\n    MSE_1 = model.evaluate(X_test, y_test, verbose=0)\n    print(\"MSE \"+ str(i+1)+ \": \"+ str(MSE_1))\n    y_predict = model.predict(X_test)\n    mse_1 = mean_squared_error(y_test, y_predict)\n    mean_squared_errors_1.append(mse)\n\nmean_squared_errors_1 = np.array(mean_squared_errors_1)\nmean_1 = np.mean(mean_squared_errors_1)\nstd_deviation_1 = np.std(mean_squared_errors_1)\n\nprint(\"The mean and standard deviation of \" + str(total_mse_1) + \" mean squared errors without normalized data. Number of epochs for training is: \" + str(epochs))\nprint(\"Standard Deviation: \" + str(std_deviation_1))\nprint('Mean: '+ str(mean_1))"
        },
        {
            "cell_type": "markdown",
            "metadata": {},
            "source": "## Part D"
        },
        {
            "cell_type": "code",
            "execution_count": 47,
            "metadata": {},
            "outputs": [],
            "source": "#defines regression model with one hidden layer of 10 nodes, relu activation\n# uses the adam optimizer and MSE loss function. \ndef reg_model():\n    model=Sequential()\n    model.add(Dense(10, activation='relu', input_shape=(n_cols,)))\n    model.add(Dense(10, activation='relu'))\n    model.add(Dense(10, activation='relu'))\n    model.add(Dense(1))\n    \n    model.compile(optimizer='adam', loss='mean_squared_error')\n    return model"
        },
        {
            "cell_type": "code",
            "execution_count": 48,
            "metadata": {},
            "outputs": [],
            "source": "model = reg_model()"
        },
        {
            "cell_type": "code",
            "execution_count": 50,
            "metadata": {},
            "outputs": [
                {
                    "name": "stdout",
                    "output_type": "stream",
                    "text": "Epoch 1/50\n - 1s - loss: 1542.5489\nEpoch 2/50\n - 0s - loss: 1513.3807\nEpoch 3/50\n - 0s - loss: 1476.1955\nEpoch 4/50\n - 0s - loss: 1421.4717\nEpoch 5/50\n - 0s - loss: 1338.2486\nEpoch 6/50\n - 0s - loss: 1213.3545\nEpoch 7/50\n - 0s - loss: 1031.2412\nEpoch 8/50\n - 0s - loss: 802.2611\nEpoch 9/50\n - 0s - loss: 566.8964\nEpoch 10/50\n - 0s - loss: 390.3484\nEpoch 11/50\n - 0s - loss: 298.5878\nEpoch 12/50\n - 0s - loss: 262.3314\nEpoch 13/50\n - 0s - loss: 242.3870\nEpoch 14/50\n - 2s - loss: 229.4849\nEpoch 15/50\n - 0s - loss: 219.6105\nEpoch 16/50\n - 0s - loss: 211.7726\nEpoch 17/50\n - 0s - loss: 205.6581\nEpoch 18/50\n - 0s - loss: 199.9310\nEpoch 19/50\n - 0s - loss: 195.7446\nEpoch 20/50\n - 0s - loss: 190.8264\nEpoch 21/50\n - 0s - loss: 186.5157\nEpoch 22/50\n - 0s - loss: 182.6852\nEpoch 23/50\n - 0s - loss: 179.4292\nEpoch 24/50\n - 0s - loss: 176.3353\nEpoch 25/50\n - 0s - loss: 173.4574\nEpoch 26/50\n - 3s - loss: 170.4277\nEpoch 27/50\n - 0s - loss: 167.8222\nEpoch 28/50\n - 2s - loss: 165.5990\nEpoch 29/50\n - 0s - loss: 163.2907\nEpoch 30/50\n - 0s - loss: 161.5107\nEpoch 31/50\n - 0s - loss: 159.1399\nEpoch 32/50\n - 0s - loss: 157.1573\nEpoch 33/50\n - 0s - loss: 155.5464\nEpoch 34/50\n - 0s - loss: 153.8916\nEpoch 35/50\n - 0s - loss: 152.9334\nEpoch 36/50\n - 0s - loss: 150.6158\nEpoch 37/50\n - 0s - loss: 149.1647\nEpoch 38/50\n - 0s - loss: 147.9863\nEpoch 39/50\n - 0s - loss: 146.4564\nEpoch 40/50\n - 0s - loss: 144.9427\nEpoch 41/50\n - 0s - loss: 143.6300\nEpoch 42/50\n - 0s - loss: 142.4773\nEpoch 43/50\n - 0s - loss: 141.3151\nEpoch 44/50\n - 0s - loss: 140.4537\nEpoch 45/50\n - 0s - loss: 139.1703\nEpoch 46/50\n - 0s - loss: 138.6627\nEpoch 47/50\n - 0s - loss: 138.6639\nEpoch 48/50\n - 0s - loss: 136.8392\nEpoch 49/50\n - 0s - loss: 135.9744\nEpoch 50/50\n - 0s - loss: 135.0698\n"
                },
                {
                    "data": {
                        "text/plain": "<keras.callbacks.History at 0x7fcdc43aa278>"
                    },
                    "execution_count": 50,
                    "metadata": {},
                    "output_type": "execute_result"
                }
            ],
            "source": "epochs=50\nmodel.fit(X_train, y_train, epochs=epochs, verbose=2)"
        },
        {
            "cell_type": "code",
            "execution_count": 51,
            "metadata": {},
            "outputs": [
                {
                    "name": "stdout",
                    "output_type": "stream",
                    "text": "309/309 [==============================] - 0s 619us/step\n"
                },
                {
                    "data": {
                        "text/plain": "146.2124340711674"
                    },
                    "execution_count": 51,
                    "metadata": {},
                    "output_type": "execute_result"
                }
            ],
            "source": "#evaluate model on test data\nloss_val_1 = model.evaluate(X_test, y_test)\ny_predict = model.predict(X_test)\nloss_val_1"
        },
        {
            "cell_type": "code",
            "execution_count": 52,
            "metadata": {},
            "outputs": [
                {
                    "name": "stdout",
                    "output_type": "stream",
                    "text": "89.3403813362572 0.0\n"
                }
            ],
            "source": "mse_1 = mean_squared_error(y_test, y_predict)\nmean_1 = np.mean(mse)\nstd_deviation_1 = np.std(mse)\nprint(mean_1, std_deviation_1)"
        },
        {
            "cell_type": "code",
            "execution_count": 53,
            "metadata": {},
            "outputs": [
                {
                    "name": "stdout",
                    "output_type": "stream",
                    "text": "MSE 1: 99.13338579097612\nMSE 2: 93.38535212544562\nMSE 3: 69.64297669296512\nMSE 4: 58.152867807925325\nMSE 5: 44.03870751093892\nMSE 6: 42.68983960691779\nMSE 7: 39.79277616334193\nMSE 8: 30.138881109293227\nMSE 9: 34.61590851472034\nMSE 10: 33.72821837490045\nMSE 11: 28.499749878077832\nMSE 12: 25.81544750176587\nMSE 13: 31.988466306025927\nMSE 14: 32.88799358725934\nMSE 15: 25.3097643805939\nMSE 16: 22.17042885937737\nMSE 17: 26.40143833962845\nMSE 18: 24.995900080041977\nMSE 19: 24.395305189114172\nMSE 20: 25.695620786796496\nMSE 21: 23.757467424213694\nMSE 22: 24.70586273662481\nMSE 23: 22.38566886877165\nMSE 24: 21.950606559086772\nMSE 25: 26.863030196007788\nMSE 26: 26.238970790480334\nMSE 27: 23.391188340665455\nMSE 28: 26.186332554493134\nMSE 29: 25.93975285650457\nMSE 30: 21.336991313205953\nMSE 31: 18.777457771177815\nMSE 32: 21.74300336683452\nMSE 33: 21.41464474749025\nMSE 34: 22.937187917024186\nMSE 35: 26.09429810656699\nMSE 36: 31.62853904217964\nMSE 37: 20.007523422488116\nMSE 38: 24.268505997642343\nMSE 39: 22.274292411927654\nMSE 40: 21.618097854663638\nMSE 41: 23.806804268105516\nMSE 42: 21.010222984363345\nMSE 43: 22.203663205637515\nMSE 44: 24.008717898026255\nMSE 45: 22.111399764767743\nMSE 46: 21.322310376707403\nMSE 47: 19.929689746844343\nMSE 48: 22.024530787298207\nMSE 49: 22.86164543620977\nMSE 50: 22.9170984558303\nThe mean and standard deviation of 50 mean squared errors without normalized data. Number of epochs for training is: 50\nStandard Deviation: 1.4210854715202004e-14\nMean: 89.34038133625721\n"
                }
            ],
            "source": "total_mse_1 = 50\nepochs=50\nmean_squared_errors_1 = []\nfor i in range(0, total_mse_1):\n    X_train, X_test, y_train, y_test = train_test_split(predictors_norm, target, test_size=0.3, random_state=i)\n    model.fit(X_train, y_train, epochs=epochs, verbose=0)\n    MSE_1 = model.evaluate(X_test, y_test, verbose=0)\n    print(\"MSE \"+ str(i+1)+ \": \"+ str(MSE_1))\n    y_predict = model.predict(X_test)\n    mse_1 = mean_squared_error(y_test, y_predict)\n    mean_squared_errors_1.append(mse)\n\nmean_squared_errors_1 = np.array(mean_squared_errors_1)\nmean_1 = np.mean(mean_squared_errors_1)\nstd_deviation_1 = np.std(mean_squared_errors_1)\n\nprint(\"The mean and standard deviation of \" + str(total_mse_1) + \" mean squared errors without normalized data. Number of epochs for training is: \" + str(epochs))\nprint(\"Standard Deviation: \" + str(std_deviation_1))\nprint('Mean: '+ str(mean_1))"
        },
        {
            "cell_type": "code",
            "execution_count": null,
            "metadata": {},
            "outputs": [],
            "source": ""
        }
    ],
    "metadata": {
        "kernelspec": {
            "display_name": "Python 3.6",
            "language": "python",
            "name": "python3"
        },
        "language_info": {
            "codemirror_mode": {
                "name": "ipython",
                "version": 3
            },
            "file_extension": ".py",
            "mimetype": "text/x-python",
            "name": "python",
            "nbconvert_exporter": "python",
            "pygments_lexer": "ipython3",
            "version": "3.6.9"
        }
    },
    "nbformat": 4,
    "nbformat_minor": 1
}